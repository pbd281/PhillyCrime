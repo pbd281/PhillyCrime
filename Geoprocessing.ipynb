{
 "cells": [
  {
   "cell_type": "code",
   "execution_count": 2,
   "metadata": {
    "collapsed": true,
    "deletable": true,
    "editable": true
   },
   "outputs": [],
   "source": [
    "import os\n",
    "\n",
    "import pandas as pd # dataframe\n",
    "\n",
    "import geopandas as gpd\n",
    "from geopandas.tools import sjoin\n",
    "from geopandas import GeoDataFrame\n",
    "from shapely.geometry import Point"
   ]
  },
  {
   "cell_type": "code",
   "execution_count": 3,
   "metadata": {
    "collapsed": true,
    "deletable": true,
    "editable": true
   },
   "outputs": [],
   "source": [
    "def getPolyCoords(row, geom, coord_type):\n",
    "    \"\"\"Returns the coordinates ('x' or 'y') of edges of a Polygon exterior\"\"\"\n",
    "\n",
    "    # Parse the exterior of the coordinate\n",
    "    exterior = row[geom].exterior\n",
    "\n",
    "    if coord_type == 'x':\n",
    "        # Get the x coordinates of the exterior\n",
    "        return list( exterior.coords.xy[0] )\n",
    "    elif coord_type == 'y':\n",
    "        # Get the y coordinates of the exterior\n",
    "        return list( exterior.coords.xy[1] )"
   ]
  },
  {
   "cell_type": "code",
   "execution_count": 4,
   "metadata": {
    "collapsed": true,
    "deletable": true,
    "editable": true
   },
   "outputs": [],
   "source": [
    "pd.options.display.max_columns = 999\n",
    "os.chdir('/Users/pbd28/OneDrive/Programming/Python/PhillyCrime')\n",
    "\n",
    "df = pd.read_csv('incidents_part1_part2.csv', delimiter=',')"
   ]
  },
  {
   "cell_type": "code",
   "execution_count": 5,
   "metadata": {
    "collapsed": true,
    "deletable": true,
    "editable": true
   },
   "outputs": [],
   "source": [
    "# Let's chuck the useless columns to save memory\n",
    "columns = ['the_geom', 'the_geom_webmercator', 'psa', 'dc_key', \n",
    "           'ucr_general', 'dispatch_date', 'dispatch_time']\n",
    "df.drop(columns, inplace=True, axis=1)"
   ]
  },
  {
   "cell_type": "code",
   "execution_count": 6,
   "metadata": {
    "collapsed": true,
    "deletable": true,
    "editable": true
   },
   "outputs": [],
   "source": [
    "# Change data types for times to allow for time analysis.\n",
    "df['dispatch_date_time'] = pd.to_datetime(df['dispatch_date_time'])\n",
    "df['Month'] = df['dispatch_date_time'].dt.month\n",
    "df['Year'] = df['dispatch_date_time'].dt.year"
   ]
  },
  {
   "cell_type": "markdown",
   "metadata": {
    "deletable": true,
    "editable": true
   },
   "source": [
    "## Categorize the Data\n",
    "A lot of these types of crimes are pretty similar, let's group the similar ones together. Our categories for crime types will be: Violent_Crime, Theft, and Other."
   ]
  },
  {
   "cell_type": "code",
   "execution_count": 7,
   "metadata": {
    "collapsed": true,
    "deletable": true,
    "editable": true
   },
   "outputs": [],
   "source": [
    "crimes_dict = {\n",
    "              'Vandalism/Criminal Mischief': 'Theft',\n",
    "              'Robbery Firearm': 'Theft',\n",
    "              'Thefts': 'Theft',\n",
    "              'Other Assaults': 'Violent_Crime',\n",
    "              'Theft from Vehicle': 'Theft',\n",
    "              'Fraud': 'Theft',\n",
    "              'Aggravated Assault No Firearm': 'Violent_Crime',\n",
    "              'Burglary Non-Residential': 'Theft',\n",
    "              'Forgery and Counterfeiting': 'Theft',\n",
    "              'Disorderly Conduct': 'Other',\n",
    "              'Burglary Residential': 'Theft',\n",
    "              'All Other Offenses': 'Other',\n",
    "              'Aggravated Assault Firearm': 'Violent_Crime',\n",
    "              'Robbery No Firearm': 'Theft',\n",
    "              'Narcotic / Drug Law Violations': 'Other',\n",
    "              'Vagrancy/Loitering': 'Other',\n",
    "              'Other Sex Offenses (Not Commercialized)': 'Other',\n",
    "              'Arson': 'Other',\n",
    "              'Rape': 'Other',\n",
    "              'Recovered Stolen Motor Vehicle':'Theft',\n",
    "              'Liquor Law Violations': 'Other',\n",
    "              'Weapon Violations': 'Violent_Crime',\n",
    "              'Public Drunkenness': 'Other',\n",
    "              'Embezzlement': 'Other',\n",
    "              'Prostitution and Commercialized Vice': 'Other',\n",
    "              'Receiving Stolen Property': 'Other',\n",
    "              'Offenses Against Family and Children': 'Other',\n",
    "              'Gambling Violations': 'Other',\n",
    "              'DRIVING UNDER THE INFLUENCE': 'Other',\n",
    "              'Motor Vehicle Theft': 'Theft',\n",
    "              'Homicide - Criminal': 'Violent_Crime',\n",
    "              'Homicide - Criminal': 'Violent_Crime',\n",
    "              'Homicide - Justifiable': 'Violent_Crime', \n",
    "              'Homicide - Gross Negligence': 'Violent_Crime'\n",
    "              }\n",
    "df['Crime_Category'] = df['text_general_code'].map(crimes_dict)"
   ]
  },
  {
   "cell_type": "code",
   "execution_count": 8,
   "metadata": {
    "collapsed": true,
    "deletable": true,
    "editable": true
   },
   "outputs": [],
   "source": [
    "# create a value column with a 1 for easy counting when aggregating\n",
    "df['Value'] = 1\n",
    "\n",
    "crime_category_count = df.groupby(['Crime_Category'])['Value'].sum()"
   ]
  },
  {
   "cell_type": "code",
   "execution_count": 9,
   "metadata": {
    "collapsed": true,
    "deletable": true,
    "editable": true
   },
   "outputs": [],
   "source": [
    "# Load in shape file\n",
    "os.chdir('/Users/pbd28/OneDrive/Programming/Python/PhillyCrime/Shapefiles/Neighborhoods_WGS84')\n",
    "\n",
    "neighborhoods = gpd.GeoDataFrame.from_file('Neighborhoods_WGS84.shp')"
   ]
  },
  {
   "cell_type": "code",
   "execution_count": 10,
   "metadata": {
    "collapsed": true,
    "deletable": true,
    "editable": true
   },
   "outputs": [],
   "source": [
    "# convert our dataframe into a geodataframe\n",
    "# this is necessary for joining our data to our shapefiles\n",
    "clean_geo_df = df.dropna(subset=['lat', 'lng'])\n",
    "\n",
    "geometry = [Point(xy) for xy in zip(clean_geo_df.lng, clean_geo_df.lat)]\n",
    "clean_geo_df = clean_geo_df.drop(['lng', 'lat'], axis=1)\n",
    "crs = {'init': 'epsg:4326'}\n",
    "geo_df = GeoDataFrame(clean_geo_df, crs=crs, geometry=geometry)\n",
    "neighborhoods.crs = geo_df.crs # make sure the coordinate systems are the same"
   ]
  },
  {
   "cell_type": "code",
   "execution_count": 11,
   "metadata": {
    "collapsed": true,
    "deletable": true,
    "editable": true
   },
   "outputs": [],
   "source": [
    "pointInPolys = sjoin(geo_df, neighborhoods, how='left', op='within')"
   ]
  },
  {
   "cell_type": "code",
   "execution_count": 12,
   "metadata": {
    "collapsed": true,
    "deletable": true,
    "editable": true
   },
   "outputs": [],
   "source": [
    "pointInPolys['month_'] = pointInPolys['Month']\n",
    "pointInPolys['year_'] = pointInPolys['Year']\n",
    "columns = ['Month', 'Year', 'dc_dist', 'dispatch_date_time', 'location_block', 'text_general_code', 'point_x', 'point_y','geometry',\n",
    "          'index_right', 'NAME', 'MAPNAME', 'Shape_Leng', 'Shape_Area']\n",
    "pointInPolys.drop(columns, inplace=True, axis=1)"
   ]
  },
  {
   "cell_type": "code",
   "execution_count": 13,
   "metadata": {
    "collapsed": true,
    "deletable": true,
    "editable": true
   },
   "outputs": [],
   "source": [
    "pointInPolys.to_csv('crimedata.csv', encoding='utf-8', index=False)"
   ]
  },
  {
   "cell_type": "code",
   "execution_count": 20,
   "metadata": {
    "collapsed": true,
    "deletable": true,
    "editable": true
   },
   "outputs": [],
   "source": [
    "os.chdir('/Users/pbd28/OneDrive/Programming/Python/PhillyCrime')\n",
    "df = pd.read_csv('crimedata.csv')"
   ]
  },
  {
   "cell_type": "code",
   "execution_count": 21,
   "metadata": {
    "collapsed": true,
    "deletable": true,
    "editable": true
   },
   "outputs": [],
   "source": [
    "df = df.groupby('LISTNAME')['objectid'].agg(['count']).reset_index()"
   ]
  },
  {
   "cell_type": "code",
   "execution_count": 27,
   "metadata": {
    "collapsed": false,
    "deletable": true,
    "editable": true
   },
   "outputs": [
    {
     "name": "stdout",
     "output_type": "stream",
     "text": [
      "                        LISTNAME  count\n",
      "0                Academy Gardens   3182\n",
      "1                        Airport   3977\n",
      "2                 Allegheny West  22991\n",
      "3                        Andorra   1454\n",
      "4               Aston-Woodbridge   2440\n",
      "5                Bartram Village   4343\n",
      "6                    Bella Vista   4373\n",
      "7                        Belmont  11242\n",
      "8                    Brewerytown  16627\n",
      "9                     Bridesburg   6766\n",
      "10                      Burholme   3104\n",
      "11                     Bustleton  15620\n",
      "12                       Byberry   1021\n",
      "13                    Callowhill   8484\n",
      "14                  Carroll Park  24500\n",
      "15                    Cedar Park   9042\n",
      "16                    Cedarbrook   8235\n",
      "17              Center City East  16569\n",
      "18                 Chestnut Hill   5781\n",
      "19                     Chinatown   2615\n",
      "20                     Clearview   2331\n",
      "21                   Cobbs Creek  60706\n",
      "22                 Crescentville   7805\n",
      "23               Crestmont Farms    277\n",
      "24                 Dearnley Park    862\n",
      "25             Dickinson Narrows   7406\n",
      "26                        Dunlap   3869\n",
      "27                    East Falls   7880\n",
      "28               East Kensington  15213\n",
      "29                 East Oak Lane   8568\n",
      "30                     East Park   2253\n",
      "31                 East Parkside   4582\n",
      "32                 East Passyunk   7649\n",
      "33                   East Poplar   4613\n",
      "34                      Eastwick   9255\n",
      "35                       Elmwood  28622\n",
      "36                      Fairhill  13820\n",
      "37                     Fairmount   8140\n",
      "38                   Feltonville  26588\n",
      "39                     Fern Rock   9577\n",
      "40   Fishtown - Lower Kensington  24128\n",
      "41                 Fitler Square   1385\n",
      "42                     Fox Chase  11809\n",
      "43                  Francisville  11340\n",
      "44                     Frankford  63505\n",
      "45                Franklin Mills   7362\n",
      "46                 Franklinville  22540\n",
      "47                  Garden Court   3424\n",
      "48              Germantown, East  21472\n",
      "49            Germantown, Morton  12820\n",
      "50         Germantown, Penn Knox   4912\n",
      "51         Germantown, Southwest  12387\n",
      "52      Germantown, West Central   9405\n",
      "53          Germantown, Westside   5773\n",
      "54                  Germany Hill   1429\n",
      "55                Girard Estates  15249\n",
      "56                      Glenwood   9596\n",
      "57             Graduate Hospital  13609\n",
      "58                   Grays Ferry  29208\n",
      "59                     Greenwich   3485\n",
      "60                    Haddington  57895\n",
      "61                    Harrowgate  41245\n",
      "62                     Hartranft  36750\n",
      "63               Haverford North   5620\n",
      "64                     Hawthorne   5514\n",
      "65                    Holmesburg  27260\n",
      "66                  Hunting Park  36544\n",
      "67                    Industrial   5436\n",
      "68                  Juniata Park  25219\n",
      "69               Kensington, Old   5254\n",
      "70              Kensington, West  24700\n",
      "71                   Kingsessing  34693\n",
      "72                      Lawndale  25382\n",
      "73                Lexington Park   2606\n",
      "74                         Logan  40853\n",
      "75                  Logan Square  26149\n",
      "76             Lower Moyamensing  18744\n",
      "77                        Ludlow   3378\n",
      "78                      Manayunk   7770\n",
      "79                        Mantua  13524\n",
      "80                       Mayfair  36624\n",
      "81                       McGuire  17257\n",
      "82                Mechanicsville     74\n",
      "83          Melrose Park Gardens   2715\n",
      "84                    Mill Creek  18430\n",
      "85                     Millbrook   2176\n",
      "86                        Modena   5850\n",
      "87                  Morrell Park   6490\n",
      "88              Mount Airy, East  18716\n",
      "89              Mount Airy, West   7366\n",
      "90                     Navy Yard    285\n",
      "91                       Newbold  12442\n",
      "92                      Nicetown   6597\n",
      "93              Normandy Village    851\n",
      "94                 North Central  44912\n",
      "95       Northeast Phila Airport   4899\n",
      "96            Northern Liberties  15479\n",
      "97                     Northwood  10397\n",
      "98                        Ogontz  22563\n",
      "99                      Old City  16679\n",
      "100                        Olney  47052\n",
      "101                    Overbrook  36377\n",
      "102                Oxford Circle  49377\n",
      "103                  Packer Park   3081\n",
      "104               Parkwood Manor   8628\n",
      "105                     Paschall  31593\n",
      "106              Passyunk Square  10137\n",
      "107                    Pennsport   6530\n",
      "108                    Pennypack   9460\n",
      "109               Pennypack Park   1043\n",
      "110              Pennypack Woods   2025\n",
      "111                      Penrose   3513\n",
      "112                 Point Breeze  35300\n",
      "113                Port Richmond    380\n",
      "114                     Powelton   3210\n",
      "115                Queen Village   7629\n",
      "116                   Rhawnhurst  23988\n",
      "117                     Richmond  51401\n",
      "118                  Rittenhouse  36749\n",
      "119                   Riverfront  15499\n",
      "120                   Roxborough   9876\n",
      "121              Roxborough Park   1253\n",
      "122                    Sharswood   6905\n",
      "123                 Society Hill  12521\n",
      "124                     Somerton  16702\n",
      "125         Southwest Schuylkill  14862\n",
      "126                Spring Garden   9356\n",
      "127                  Spruce Hill   8735\n",
      "128             Stadium District  12414\n",
      "129                      Stanton  32315\n",
      "130           Strawberry Mansion  31045\n",
      "131                   Summerdale   9140\n",
      "132                       Tacony  25980\n",
      "133                        Tioga  27191\n",
      "134                   Torresdale   7651\n",
      "135              University City  23023\n",
      "136             Upper Kensington  72772\n",
      "137             Upper Roxborough   5688\n",
      "138                  Walnut Hill  10239\n",
      "139       Washington Square West  32625\n",
      "140                West Oak Lane  34889\n",
      "141                    West Park   3306\n",
      "142                West Parkside   4600\n",
      "143                West Passyunk  14981\n",
      "144                  West Poplar   8513\n",
      "145                West Powelton   8742\n",
      "146              West Torresdale     40\n",
      "147                      Whitman   9483\n",
      "148              Winchester Park    851\n",
      "149                  Wissahickon   2933\n",
      "150            Wissahickon Hills    427\n",
      "151             Wissahickon Park    910\n",
      "152                  Wissinoming  29116\n",
      "153                       Wister   9018\n",
      "154             Woodland Terrace    912\n",
      "155                   Wynnefield  15710\n",
      "156           Wynnefield Heights   5719\n",
      "157                     Yorktown   5366\n"
     ]
    }
   ],
   "source": [
    "def print_full(x):\n",
    "    pd.set_option('display.max_rows', len(x))\n",
    "    print(x)\n",
    "    pd.reset_option('display.max_rows')\n",
    "print_full(df)"
   ]
  }
 ],
 "metadata": {
  "kernelspec": {
   "display_name": "Python 3",
   "language": "python",
   "name": "python3"
  },
  "language_info": {
   "codemirror_mode": {
    "name": "ipython",
    "version": 3
   },
   "file_extension": ".py",
   "mimetype": "text/x-python",
   "name": "python",
   "nbconvert_exporter": "python",
   "pygments_lexer": "ipython3",
   "version": "3.5.2"
  }
 },
 "nbformat": 4,
 "nbformat_minor": 2
}
